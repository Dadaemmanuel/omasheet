{
 "cells": [
  {
   "cell_type": "code",
   "execution_count": 10,
   "metadata": {},
   "outputs": [
    {
     "name": "stdout",
     "output_type": "stream",
     "text": [
      "\u001b[33mDEPRECATION: Python 2.7 will reach the end of its life on January 1st, 2020. Please upgrade your Python as Python 2.7 won't be maintained after that date. A future version of pip will drop support for Python 2.7.\u001b[0m\n",
      "Requirement already satisfied: pandas in /home/hannah/.local/lib/python2.7/site-packages (0.24.2)\n",
      "Requirement already satisfied: pytz>=2011k in /usr/lib/python2.7/dist-packages (from pandas) (2018.9)\n",
      "Requirement already satisfied: numpy>=1.12.0 in /home/hannah/.local/lib/python2.7/site-packages (from pandas) (1.16.4)\n",
      "Requirement already satisfied: python-dateutil>=2.5.0 in /usr/local/lib/python2.7/dist-packages (from pandas) (2.7.5)\n",
      "Requirement already satisfied: six>=1.5 in /usr/lib/python2.7/dist-packages (from python-dateutil>=2.5.0->pandas) (1.12.0)\n"
     ]
    },
    {
     "ename": "ImportError",
     "evalue": "No module named pandas",
     "output_type": "error",
     "traceback": [
      "\u001b[0;31m---------------------------------------------------------------------------\u001b[0m",
      "\u001b[0;31mImportError\u001b[0m                               Traceback (most recent call last)",
      "\u001b[0;32m<ipython-input-10-8bbd5565ac1b>\u001b[0m in \u001b[0;36m<module>\u001b[0;34m()\u001b[0m\n\u001b[1;32m      4\u001b[0m \u001b[0;34m\u001b[0m\u001b[0m\n\u001b[1;32m      5\u001b[0m \u001b[0;31m# Importing pandas as pd\u001b[0m\u001b[0;34m\u001b[0m\u001b[0;34m\u001b[0m\u001b[0m\n\u001b[0;32m----> 6\u001b[0;31m \u001b[0;32mimport\u001b[0m \u001b[0mpandas\u001b[0m \u001b[0;32mas\u001b[0m \u001b[0mpd\u001b[0m\u001b[0;34m\u001b[0m\u001b[0m\n\u001b[0m\u001b[1;32m      7\u001b[0m \u001b[0;34m\u001b[0m\u001b[0m\n\u001b[1;32m      8\u001b[0m \u001b[0;31m# List initialization\u001b[0m\u001b[0;34m\u001b[0m\u001b[0;34m\u001b[0m\u001b[0m\n",
      "\u001b[0;31mImportError\u001b[0m: No module named pandas"
     ]
    }
   ],
   "source": [
    "!pip install pandas\n",
    "# Python code to split the list two element  \n",
    "# at a time and insert it into excel. \n",
    "  \n",
    "# Importing pandas as pd \n",
    "import pandas as pd \n",
    "  \n",
    "# List initialization \n",
    "station = [\n",
    "    \"BS\", 0 ,10 ,20, \n",
    "30, 40, 50,60, 70, \"BS\", 80 ,90, 100, 110, 120, 130, 140, \"BS\", 150, 160, 170, 180, 190, 200, \"BS\"\n",
    "] \n",
    "\n",
    "time = [\n",
    "\"15:48\", \"16:01\", \"16:09\", \"16:16\", \"16:22\", \"16:27\", \"16:33\", \"16:40\", \"16:45\", \"16:52\", \"16:49\", \"17:10\", \"17:18\", \"17:24\", \"17:30\", \"17:35\", \"17:50\", \"17:57\", \"18:05\", \"18:14\", \"18:21\", \"18:26\", \"18:32\", \"18:38\", \"18:50\"\n",
    "]\n",
    "\n",
    "elevation = [\n",
    "    158.90,1045.60,1403.80,144.80,145.60,148.10,147.80,147.8,149.1,149.8,149.8,149.8,152.6,153.1,151.8,149.6,145.6,145.6,155.3,152.3,152.3,152.3,150.6,151.3,152.3,151.8,151.8\n",
    "]\n",
    "\n",
    "averageReading = [\n",
    "    1474.28,1474.30,1474.26,1474.34,1474.43,1474.43,1474.41,1474.58,1474.55,1474.43,1474.66,1474.73,1474.83,1474.94,1474.94,1474.49,1474.53,1474.53,1475.27,1475.39,1457.44,1475.57,1475.64,1475.74,1475.54\n",
    "]\n",
    "\n",
    "changeinTime = [\n",
    "    0,13,21,28,34,39,45,52,57,64,61,82,90,96,102,107,122,129,137,146,153,158,164,170,182\n",
    "]\n",
    "\n",
    "driftCorrection = [\n",
    "    0,0.0899,0.1453,0.1937,0.2352,0.2698,0.3114,0.3944,0.4428,0.4221,0.5674,0.6228,0.6643,0.7058,0.7404,0.8442,0.8926,0.9480,1.0103,1.0587,1.0933,1.1348,1.1764,1.2594\n",
    "]\n",
    "\n",
    "changeinElevation = [\n",
    "    0,886.7,1244.9,-14.1,-13.2,-10.8,-11.1,-11.1,-9.8,-9.1,-9.1,-9.1,-6.3,-5.8,-7.1,-9.3,-13.3,-3.6,-6.6,-6.6,-8.3,-7.6,-7.6,-7.1,-7.1\n",
    "]\n",
    "\n",
    "gCorrected = [\n",
    "    1414.28,1474.210,1474.1147,1474.1436,1474.1948,1474.1602,1474.0986,1474.2262,1474.1556,1473.9872,1474.2379,1474.1626,1474.2072,1474.2757,1474.2342,1474.7496,1473.6858,1473.6374,1474.322,1474.3797,1474.3813,1474.4717,1474.5052,1474.5736,1474.2806\n",
    "]\n",
    "\n",
    "FAC = [\n",
    "    0,273.635,384.176,-4.351,-4.104,-3.333,-3.425,-3.425,-3.024,-2.808,-2.808,-2.808,-1.944,-1.789,-2.191,-2.869,-4.104,-1.110,-2.036,-2.036,-2.561,-2.345,-2.345,-2.191,-2.191\n",
    "]\n",
    "\n",
    "BC = [\n",
    "    0,99.221,139.304,-1.577,-1.488,-1.208,-1.242,-1.242,-1.242,-1.096,-1.018,-1.018,-1.018,-0.704,-0.649,-0.794,-1.041,-1.488,-0.403,-0.738,-0.738,-0.928,-0.850,-0.850,-0.794,-0.794\n",
    "]\n",
    "\n",
    "BA = [\n",
    "    -976646.64, -976472.294,-977646.686,-976649.546,-976649.339,-976648.883,-976649.002,-976648.881,-976648.690,-976648.721,-976648.470,-976648.545,-976647.951,-976647.782,-976648.081,-976648.996,-976649.848,-976647.988,-976647.894,-976647.836,-976648.169,-976647.936,-976647.908,-976647.751,-976648.034\n",
    "]\n",
    "\n",
    "df = pd.DataFrame() \n",
    "  \n",
    "# Creating two columns \n",
    "df['Staion'] = station[0::] \n",
    "df['Time'] = time[0::]\n",
    "df['Elevation'] = elevation[0::]\n",
    "df['averageReading'] = averageReading[0::]\n",
    "df['changeinTime'] = changeinTime[0::]\n",
    "df['driftCorrection'] = driftCorrection[0::]\n",
    "df['changeinElevation'] = changeinElevation[0::]\n",
    "df['gCorrected'] = gCorrected[0::]\n",
    "df['FAC'] = FAC[0::]\n",
    "df['BC'] = BC[0::]\n",
    "df['BA'] = BA[0::]\n",
    "  \n",
    "# Converting to excel \n",
    "df.to_excel('result.xlsx', index = False) "
   ]
  },
  {
   "cell_type": "code",
   "execution_count": null,
   "metadata": {},
   "outputs": [],
   "source": []
  },
  {
   "cell_type": "code",
   "execution_count": null,
   "metadata": {},
   "outputs": [],
   "source": []
  }
 ],
 "metadata": {
  "kernelspec": {
   "display_name": "Python 2",
   "language": "python",
   "name": "python2"
  },
  "language_info": {
   "codemirror_mode": {
    "name": "ipython",
    "version": 2
   },
   "file_extension": ".py",
   "mimetype": "text/x-python",
   "name": "python",
   "nbconvert_exporter": "python",
   "pygments_lexer": "ipython2",
   "version": "2.7.16"
  }
 },
 "nbformat": 4,
 "nbformat_minor": 2
}
